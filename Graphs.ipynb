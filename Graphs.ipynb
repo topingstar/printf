{
  "nbformat": 4,
  "nbformat_minor": 0,
  "metadata": {
    "colab": {
      "name": "Graphs.ipynb",
      "provenance": [],
      "include_colab_link": true
    },
    "kernelspec": {
      "name": "python3",
      "display_name": "Python 3"
    },
    "language_info": {
      "name": "python"
    }
  },
  "cells": [
    {
      "cell_type": "markdown",
      "metadata": {
        "id": "view-in-github",
        "colab_type": "text"
      },
      "source": [
        "<a href=\"https://colab.research.google.com/github/topisteronyango/printf/blob/main/Graphs.ipynb\" target=\"_parent\"><img src=\"https://colab.research.google.com/assets/colab-badge.svg\" alt=\"Open In Colab\"/></a>"
      ]
    },
    {
      "cell_type": "markdown",
      "source": [
        "# **Graphs**\n",
        "\n",
        "***Key terms Used***\n",
        "\n",
        "**Vertex**: This is a node:  It can have a name, which we will call the **“key**.” A vertex may also have additional information. We will call this additional information the **“payload**.”\n",
        "\n",
        "**Edge**: An edge connects two vertices to show that there is a relationship between them. Edges may be one-way or two-way. If the edges in a graph are all one-way, we say that the graph is a directed graph, or a digraph.\n",
        "\n",
        "Weight: This is a cost to go from one vertex to another. For example in a graph of roads that connect one city to another, the weight on the edge might represent the distance between the two cities.\n",
        "\n"
      ],
      "metadata": {
        "id": "lD6-kZKi1SEf"
      }
    },
    {
      "cell_type": "markdown",
      "source": [
        "# **The Graph Abstract Data Type**"
      ],
      "metadata": {
        "id": "IgPh3rU74mtv"
      }
    },
    {
      "cell_type": "markdown",
      "source": [
        "The graph abstract data type (ADT) is defined as follows:\n",
        "\n",
        "**Graph()** creates a new, empty graph.\n",
        "\n",
        "**addVertex(vert)** adds an instance of **Vertex** to the graph.\n",
        "\n",
        "**addEdge(fromVert, toVert)** Adds a new, directed edge to the graph that connects two vertices.\n",
        "\n",
        "**addEdge(fromVert, toVert, weight)** Adds a new, weighted, directed edge to the graph that connects two vertices.\n",
        "\n",
        "**getVertex(vertKey)** finds the vertex in the graph named **vertKey**.\n",
        "\n",
        "**getVertices()** returns the list of all vertices in the graph.\n",
        "\n",
        "**in** returns **True** for a statement of the form **vertex in graph**, if the given vertex is in the graph, **False** otherwise.\n",
        "\n",
        "\n",
        "There are two well-known implementations of a graph, the **adjacency matrix** and the **adjacency list**."
      ],
      "metadata": {
        "id": "lyDbm82Z4esq"
      }
    },
    {
      "cell_type": "markdown",
      "source": [
        ""
      ],
      "metadata": {
        "id": "v1SUG5V-SPKJ"
      }
    },
    {
      "cell_type": "code",
      "execution_count": null,
      "metadata": {
        "id": "aeor9v_VvVbM"
      },
      "outputs": [],
      "source": [
        "#import sys, used to assign INF cost to all nodes apart from the statring node. \n",
        "import sys\n",
        "#Import heapq Libray used to implement the heapify, heappush and heappop function\n",
        "from heapq import heapify, heappush, heappop\n",
        "\n",
        "# create a function to pass three vairables (graph, src and destination)\n",
        "def Digkstra(graph, src, dest):\n",
        "# initialize a variable \"inf\" and assign it a big value\n",
        "  inf = sys.maxsize\n",
        "#Create a dictionary with a name node_data. Within this dictionary, there are nodes (Dictionary of a dictionary). \n",
        "#Each node has data i.e the cost(initialised with infinite) and the predecessor(initialised with empty)\n",
        " \n",
        "  node_data = {'A':{'cost':inf, 'pred':[]},\n",
        "               'B':{'cost':inf, 'pred':[]},\n",
        "               'C':{'cost':inf, 'pred':[]},\n",
        "               'D':{'cost':inf, 'pred':[]},\n",
        "               'E':{'cost':inf, 'pred':[]},\n",
        "               'F':{'cost':inf, 'pred':[]}               \n",
        "               }\n",
        "#For the first node, set the cost of the source to zero(0). This changes it from inf to zero(0)\n",
        "  node_data[src]['cost'] = 0\n",
        "\n",
        "#also create a set of visited sets, initially set it to empty\n",
        "  visited = []\n",
        "#create a temporary variable of the source. This will be assigned to every node with min cost out of all the neighbors\n",
        "  temp = src\n",
        "\n",
        "#create a for loop to run in (n-1) number of vertices. \n",
        "#then, check if the temp value (or the source) is in the visited array or not\n",
        "#if it is not in the visiteed array, add/push it there \n",
        "  for i in range(5):\n",
        "    if temp not in visited:\n",
        "      visited.append(temp)\n",
        "      min_heap =[]\n",
        "#create another loop to traverse within the neighbors. The helps us to know which of the neighbors have min cost\n",
        "      for j in graph[temp]:\n",
        "        if j not in visited:\n",
        "#Calculate the new cost\n",
        "          cost = node_data[temp]['cost'] + graph[temp][j]\n",
        "\n",
        "#If the cost we just calculated is less than the cost of the neigbor, assign the new cost\n",
        "          if cost < node_data[j]['cost']:\n",
        "            node_data[j]['cost'] = cost\n",
        "#calculate the predecessors\n",
        "            node_data[j]['pred'] = node_data[temp]['pred'] + list(temp)\n",
        "#Create a heap to add the neighbor and their cost. the added values are sent to the min_heap          \n",
        "          heappush(min_heap,(node_data[j]['cost'],j))\n",
        "#To find the minimum value, we will have to heapify the min_heap\n",
        "    heapify(min_heap)\n",
        "#After getting the min_heap, we update the new source (temp) with the new vertex(neighbor) with least cost (in position[0])and vertex(in position[1]) \n",
        "    temp = min_heap[0][1]\n",
        "  print(\"Shortest distance: \" +str(node_data[dest]['cost']))\n",
        "  print(\"Shortest path: \" +str(node_data[dest]['pred'] +list(dest)))\n",
        "\n",
        "\n",
        "if __name__ == \"__main__\":\n",
        "  graph = {\n",
        "      'A':{'B':2, 'C':4},\n",
        "      'B':{'A':2, 'C':3, 'D':8},\n",
        "      'C':{'A':4, 'B':3, 'E':5, 'D':2},\n",
        "      'D':{'B':8, 'c':2, 'E':11, 'F':22},\n",
        "      'E':{'C':5, 'D':11, 'F':1},\n",
        "      'F':{'D':22, 'E':1}\n",
        "  }\n",
        "  source = 'A'\n",
        "  Destination = 'F'\n",
        "\n",
        "  Digkstra(graph, source, Destination)\n",
        "  "
      ]
    },
    {
      "cell_type": "markdown",
      "source": [
        "Clear code"
      ],
      "metadata": {
        "id": "tGAqgBtQ5pXy"
      }
    },
    {
      "cell_type": "code",
      "source": [
        "#import sys, used to assign INF cost to all nodes apart from the statring node. \n",
        "import sys\n",
        "#Import heapq Libray used to implement the heapify, heappush and heappop function\n",
        "from heapq import heapify, heappush, heappop\n",
        "\n",
        "# create a function to pass three vairables (graph, src and dest)\n",
        "def Dgkstra(graph,src,dest):\n",
        "    inf = sys.maxsize\n",
        "    node_data = {'A':{'cost':inf, 'pred':[]},\n",
        "    'B':{'cost':inf, 'pred':[]},\n",
        "    'C':{'cost':inf, 'pred':[]},\n",
        "    'D':{'cost':inf, 'pred':[]},\n",
        "    'E':{'cost':inf, 'pred':[]},\n",
        "    'F':{'cost':inf, 'pred':[]}               \n",
        "    }\n",
        "    node_data[src]['cost'] = 0\n",
        "    visited = []\n",
        "    temp = src\n",
        "    for i in range(5):\n",
        "        if temp not in visited:\n",
        "            visited.append(temp)\n",
        "            min_heap =[]\n",
        "            for j in graph[temp]:\n",
        "                if j not in visited:\n",
        "                    cost = node_data[temp]['cost'] + graph[temp][j]\n",
        "                    if cost < node_data[j]['cost']:\n",
        "                        node_data[j]['cost'] = cost\n",
        "                        node_data[j]['pred'] = node_data[temp]['pred'] + list(temp)\n",
        "                    heappush(min_heap,(node_data[j]['cost'],j))\n",
        "        heapify(min_heap)\n",
        "        temp = min_heap[0][1]\n",
        "    print(\"Shortest distance: \" +str(node_data[dest]['cost']))\n",
        "    print(\"Shortest path: \" +str(node_data[dest]['pred'] +list(dest)))\n",
        "\n",
        "if __name__ == \"__main__\":\n",
        "    graph = {\n",
        "      'A':{'B':2, 'C':4},\n",
        "      'B':{'A':2, 'C':3, 'D':8},\n",
        "      'C':{'A':4, 'B':3, 'E':5, 'D':2},\n",
        "      'D':{'B':8, 'c':2, 'E':11, 'F':22},\n",
        "      'E':{'C':5, 'D':11, 'F':1},\n",
        "      'F':{'D':22, 'E':1}\n",
        "    }\n",
        "    source = 'A'\n",
        "    Destination = 'F'\n",
        "    Dgkstra(graph,source,Destination)\n",
        "  "
      ],
      "metadata": {
        "id": "4q0adjwj5r7K"
      },
      "execution_count": null,
      "outputs": []
    },
    {
      "cell_type": "markdown",
      "source": [
        "# **Helpful links**\n",
        "\n",
        "https://stackabuse.com/dijkstras-algorithm-in-python/ \n",
        "\n",
        "https://runestone.academy/ns/books/published//pythonds/Graphs/GeneralDepthFirstSearch.html \n",
        "\n",
        "https://www.youtube.com/watch?v=XB4MIexjvY0 \n",
        "\n",
        "https://www.youtube.com/watch?v=oNI0rf2P9gE"
      ],
      "metadata": {
        "id": "p42rOConKvA-"
      }
    }
  ]
}